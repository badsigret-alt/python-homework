{
 "cells": [
  {
   "cell_type": "code",
   "execution_count": 1,
   "id": "79ae2a2a-02c9-4ea3-83ed-618997bfd242",
   "metadata": {},
   "outputs": [
    {
     "name": "stdout",
     "output_type": "stream",
     "text": [
      "ahiwat\n"
     ]
    }
   ],
   "source": [
    "print(\"ahiwat\")"
   ]
  },
  {
   "cell_type": "code",
   "execution_count": null,
   "id": "8675dfcc-0574-4c1b-b808-d8746a8515bd",
   "metadata": {},
   "outputs": [],
   "source": []
  }
 ],
 "metadata": {
  "kernelspec": {
   "display_name": "Python 3 (ipykernel)",
   "language": "python",
   "name": "python3"
  },
  "language_info": {
   "codemirror_mode": {
    "name": "ipython",
    "version": 3
   },
   "file_extension": ".py",
   "mimetype": "text/x-python",
   "name": "python",
   "nbconvert_exporter": "python",
   "pygments_lexer": "ipython3",
   "version": "3.14.0"
  }
 },
 "nbformat": 4,
 "nbformat_minor": 5
}
